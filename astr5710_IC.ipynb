{
 "cells": [
  {
   "cell_type": "code",
   "execution_count": 16,
   "metadata": {
    "scrolled": false
   },
   "outputs": [],
   "source": [
    "%matplotlib inline\n",
    "import matplotlib.pyplot as plt\n",
    "import numpy as np\n",
    "from astropy.io import ascii\n",
    "\n",
    "# plotting options\n",
    "import matplotlib as mpl\n",
    "mpl.rc('font',**{'family':'sans-serif','size':14})\n",
    "mpl.rcParams['xtick.direction'] = 'in'\n",
    "mpl.rcParams['ytick.direction'] = 'in'"
   ]
  },
  {
   "cell_type": "code",
   "execution_count": 18,
   "metadata": {},
   "outputs": [
    {
     "data": {
      "text/plain": [
       "Text(0, 0.5, 'monochromatic flux $\\\\nu F_\\\\nu$ (erg cm$^{-2}$ s$^{-1}$)')"
      ]
     },
     "execution_count": 18,
     "metadata": {},
     "output_type": "execute_result"
    },
    {
     "data": {
      "image/png": "[encoded data removed]",
      "text/plain": [
       "<Figure size 432x432 with 1 Axes>"
      ]
     },
     "metadata": {
      "needs_background": "light"
     },
     "output_type": "display_data"
    }
   ],
   "source": [
    "# load data\n",
    "data = ascii.read('astr5710_mysteryobject1.csv',format='csv')\n",
    "\n",
    "plt.figure(figsize=(6,6))\n",
    "plt.loglog(data['nu'],data['nuFnu'],marker='o',linestyle='')\n",
    "plt.xlabel(r'frequency $\\nu$ (Hz)',fontsize=16); plt.ylabel(r'monochromatic flux $\\nu F_\\nu$ (erg cm$^{-2}$ s$^{-1}$)',fontsize=16)"
   ]
  },
  {
   "cell_type": "markdown",
   "metadata": {},
   "source": [
    "# Predict the inverse Compton spectrum of our mystery object\n",
    "\n",
    "Last time, we started analyzing a synchrotron spectrum. Going through all the steps results in estimates of (roughly):\n",
    "\n",
    "$B \\simeq 8$ G, $n_e \\simeq 10^4$ cm$^{-3}$, $\\gamma_{\\rm min} \\simeq 5$, $\\gamma_{\\rm max} \\simeq 10^5$\n",
    "\n",
    "Using these estimates, we will make predictions for the inverse Compton power and spectrum from the object."
   ]
  },
  {
   "cell_type": "markdown",
   "metadata": {},
   "source": [
    "## 1. Scattering optical depth\n",
    "\n",
    "The scattering optical depth of a uniform source of radius $R$ is approximately $\\tau_{\\rm sc} = n_e \\sigma_T R$, where $\\sigma_T \\simeq 6.65 \\times 10^{-25}$ cm$^2$ is the Thomson cross section, and here $R \\simeq 1.5 \\times 10^{14}$ cm\n",
    "\n",
    "What is the scattering optical depth of the source? How many times on average does each photon scatter from an electron?"
   ]
  },
  {
   "cell_type": "code",
   "execution_count": null,
   "metadata": {},
   "outputs": [],
   "source": []
  },
  {
   "cell_type": "markdown",
   "metadata": {},
   "source": [
    "## 2. Inverse Compton spectrum\n",
    "\n",
    "We discussed last time in class that the average energy gain for relativistic electrons ($\\gamma \\gg 1$) is $$\\frac{E_1}{E_0} \\simeq \\gamma^2$$\n",
    "\n",
    "where $E_1$ and $E_0$ are the photon energies after and before scattering. \n",
    "\n",
    "For the mystery object spectrum with a synchrotron spectrum peaking in the X-rays ($\\nu \\simeq 10^{18}$ Hz), roughly over what frequency range should you expect to see its inverse Compton spectrum? Based on the result from part 1, you may assume that nearly all of the inverse Compton spectrum is from photons that scatter once."
   ]
  },
  {
   "cell_type": "code",
   "execution_count": null,
   "metadata": {},
   "outputs": [],
   "source": []
  },
  {
   "cell_type": "markdown",
   "metadata": {},
   "source": [
    "## 3. Inverse Compton power\n",
    "\n",
    "We showed in class that the total inverse Compton power can be calculated from the synchrotron power using the ratio $$\\frac{P_{\\rm IC}}{P_{\\rm Syn}} = \\frac{U_{\\rm ph}}{U_B},$$\n",
    "\n",
    "where $U_{\\rm ph}$ is the energy density of the photon distribution before scattering, and $U_B = B^2/8\\pi$ is the magnetic field energy density.\n",
    "\n",
    "Estimate the inverse Compton power of the mystery object, using the value of $B$ above. A useful order of magnitude estimate of the photon energy density can be obtained from the total luminosity as $$U_{\\rm ph} \\sim \\frac{L}{4\\pi R^2 c},$$ where $L = 4\\pi D^2 F$ is the bolometric (frequency-integrated) luminosity and $F$ is the bolometric flux. (The approximation corresponds to setting the observed intensity equal to the mean intensity.) You may further estimate $F \\sim \\nu_{\\rm max} F_{\\nu, \\rm max}$, where $F_{\\nu, \\rm max}$ is the peak flux density of the synchrotron spectrum.\n",
    "\n",
    "You can use an angular size of the source of $R/D \\simeq 5 \\times 10^{-11}$ radians."
   ]
  },
  {
   "cell_type": "code",
   "execution_count": null,
   "metadata": {},
   "outputs": [],
   "source": []
  },
  {
   "cell_type": "markdown",
   "metadata": {},
   "source": [
    "## 4. Sketch your predicted inverse Compton spectrum\n",
    "\n",
    "Using your results from parts 1-3, sketch your prediction for the inverse Compton spectrum of the mystery object, focusing on its relative total power and range of energies. As we'll discuss next week, for a power law distribution of electrons the shape of an inverse Compton spectrum closely mirrors that of the synchrotron spectrum. \n",
    "\n",
    "We'll compare with the observed spectrum on Monday."
   ]
  },
  {
   "cell_type": "code",
   "execution_count": null,
   "metadata": {},
   "outputs": [],
   "source": []
  }
 ],
 "metadata": {
  "kernelspec": {
   "display_name": "Python 3",
   "language": "python",
   "name": "python3"
  },
  "language_info": {
   "codemirror_mode": {
    "name": "ipython",
    "version": 3
   },
   "file_extension": ".py",
   "mimetype": "text/x-python",
   "name": "python",
   "nbconvert_exporter": "python",
   "pygments_lexer": "ipython3",
   "version": "3.7.3"
  }
 },
 "nbformat": 4,
 "nbformat_minor": 2
}
