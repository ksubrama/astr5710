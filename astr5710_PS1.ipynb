{
 "cells": [
  {
   "cell_type": "markdown",
   "metadata": {},
   "source": [
    "# Problem Set 1 -- Radiative transfer"
   ]
  },
  {
   "cell_type": "code",
   "execution_count": null,
   "metadata": {
    "scrolled": true
   },
   "outputs": [],
   "source": [
    "import PS1"
   ]
  },
  {
   "cell_type": "markdown",
   "metadata": {},
   "source": [
    "## Problem 1"
   ]
  },
  {
   "cell_type": "code",
   "execution_count": null,
   "metadata": {
    "scrolled": true
   },
   "outputs": [],
   "source": [
    "PS1.problem1()"
   ]
  },
  {
   "cell_type": "markdown",
   "metadata": {},
   "source": [
    "### a) One zone model intensity\n",
    "\n",
    "Consider a uniform sphere of gas of radius $R$ radiating with constant emission and absorption coefficients $j_\\nu$ and $\\alpha_\\nu$, which is seen by an observer at a distance $D \\gg R$. Solve the radiative transfer equation for the specific intensity $I_\\nu$ of the sphere as a function of the impact parameter $b$ of parallel light rays from its center (see diagram)."
   ]
  },
  {
   "cell_type": "markdown",
   "metadata": {},
   "source": [
    "### b) Optically thin and thick intensity profiles\n",
    "\n",
    "Plot sample intensity profiles in the limits of $\\alpha_\\nu R \\ll 1$ and $\\alpha_\\nu R > 1$ for some values of the other parameters. How does the image of the gas sphere differ in the optically thin and thick limits?"
   ]
  },
  {
   "cell_type": "markdown",
   "metadata": {},
   "source": [
    "### c) One zone model flux density\n",
    "\n",
    "What is the observed flux density integrated over the sphere? What is its maximum possible value, and how does the maximum possible value relate to the concept of brightness temperature?"
   ]
  },
  {
   "cell_type": "markdown",
   "metadata": {},
   "source": [
    "## Problem 2"
   ]
  },
  {
   "cell_type": "code",
   "execution_count": null,
   "metadata": {},
   "outputs": [],
   "source": [
    "PS1.problem2()"
   ]
  },
  {
   "cell_type": "markdown",
   "metadata": {},
   "source": [
    "### a) Sample galaxy cluster X-ray spectrum\n",
    "\n",
    "The read in data are stored as a dictionary with colum headings 'ekev' (photon energy in units of keV) and photon number intensity 'nekev' (in units of photons / cm^2 / s / keV)\n",
    "\n",
    "First, convert these quantities to flux density in cgs units. Then, make a log-log plot of the SED, $\\nu L_\\nu$ vs. $\\nu$. (Hint: it might be useful to check your work by looking up a typical luminosity of a galaxy cluster)\n",
    "\n",
    "The distance to this Galaxy cluster is $\\simeq 100$ Mpc $= 3.1\\times10^{26}$ cm, and its radius is $R \\approx 1$ Mpc"
   ]
  },
  {
   "cell_type": "markdown",
   "metadata": {},
   "source": [
    "### b) Estimate the color temperature $T_c$ from the X-ray spectrum"
   ]
  },
  {
   "cell_type": "markdown",
   "metadata": {},
   "source": [
    "### c) Compare to a one zone spherical bremsstrahlung model solution\n",
    "\n",
    "now we can plot a model against the data using an emissivity appropriate for Bremsstrahlung from hydrogen with number density $n$ and temperature $T$, both in cgs units\n",
    "\n",
    "$j_\\nu \\simeq 10^{-38} \\, T^{-1/2} \\, n^2 e^{-h\\nu/kT}$ erg cm$^{-2}$ s$^{-1}$ Hz$^{-1}$ ster$^{-1}$\n",
    "\n",
    "use your solution to Problem 1 in the optically thin limit, $\\alpha_\\nu R \\ll 1$, along with this form of $j_\\nu$ to estimate $n$ and $T$ for the intracluster medium"
   ]
  },
  {
   "cell_type": "markdown",
   "metadata": {},
   "source": [
    "### d) Optical depth consistency check\n",
    "\n",
    "Calculate $\\alpha_\\nu R$ for your favored parameters assuming LTE. Is the result consistent with our assumption in part c? Assuming $R$ is a constant, at what frequency $\\nu_\\tau$ should the bremsstrahlung radiation become optically thick (ignoring all other sources of emission, absorption, scattering)?"
   ]
  },
  {
   "cell_type": "markdown",
   "metadata": {},
   "source": [
    "## Problem 3"
   ]
  },
  {
   "cell_type": "markdown",
   "metadata": {},
   "source": [
    "### a) Radiation and gravitational pressure balance\n",
    "\n",
    "Show that an optically thin cloud of material can be ejected by radiation pressure from a central source of luminosity $L$ and mass $M$ if $$L > \\frac{4\\pi GM c}{\\kappa},$$ where $\\kappa$ is the integrated opacity of the cloud (defined by absorption coefficient $\\alpha = \\kappa \\rho$, where $\\rho$ is the mass density)\n",
    "\n",
    "Hint: see R&L end of section 1.4"
   ]
  },
  {
   "cell_type": "markdown",
   "metadata": {},
   "source": [
    "### b) Ejected velocity\n",
    "\n",
    "Show that the terminal velocity attained by such a cloud under the influence of gravitational and radiation forces alone, if it starts at rest a distance $R$ from the center, is\n",
    "\n",
    "$$v^2 = \\frac{2GM}{R}\\left(\\frac{\\kappa L}{4\\pi GMc}-1\\right)$$"
   ]
  },
  {
   "cell_type": "markdown",
   "metadata": {},
   "source": [
    "### c) Eddington limit\n",
    "\n",
    "A minimum opacity value comes from electron (Thomson) scattering off free electrons, $\\kappa = \\kappa_T$, where $\\kappa_T = \\sigma_T / m_p = 0.4$ cm$^{2}$ g$^{-1}$ for pure hydrogen. Using this opacity, calculate the Eddington luminosity $L_{\\rm Edd} (M)$, above which hydrogen will be ejected by radiation pressure. Scale your result to the mass of the Sun, $M_{\\rm Sun} = 2\\times10^{33}$ g."
   ]
  },
  {
   "cell_type": "code",
   "execution_count": null,
   "metadata": {},
   "outputs": [],
   "source": []
  }
 ],
 "metadata": {
  "kernelspec": {
   "display_name": "Python 3",
   "language": "python",
   "name": "python3"
  },
  "language_info": {
   "codemirror_mode": {
    "name": "ipython",
    "version": 3
   },
   "file_extension": ".py",
   "mimetype": "text/x-python",
   "name": "python",
   "nbconvert_exporter": "python",
   "pygments_lexer": "ipython3",
   "version": "3.8.6"
  }
 },
 "nbformat": 4,
 "nbformat_minor": 2
}
